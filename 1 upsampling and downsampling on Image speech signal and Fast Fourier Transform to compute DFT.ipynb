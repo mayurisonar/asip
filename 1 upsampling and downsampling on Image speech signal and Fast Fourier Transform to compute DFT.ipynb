{
 "cells": [
  {
   "cell_type": "code",
   "execution_count": null,
   "id": "c07555d3",
   "metadata": {},
   "outputs": [],
   "source": [
    "from PIL import Image \n",
    "from skimage.io import imread, imshow, show\n",
    "import scipy.fftpack as fp\n",
    "from scipy import ndimage, misc, signal\n",
    "from skimage import data, img_as_float\n",
    "from skimage.color import rgb2gray\n",
    "from skimage.transform import rescale\n",
    "import matplotlib.pylab as pylab\n",
    "import numpy as np\n",
    "import numpy.fft\n",
    "import timeit\n"
   ]
  },
  {
   "cell_type": "code",
   "execution_count": null,
   "id": "76aed7a6",
   "metadata": {},
   "outputs": [],
   "source": [
    "im = Image.open(\"garden2.jpg\")\n",
    "pylab.imshow(im), pylab.show()\n"
   ]
  },
  {
   "cell_type": "code",
   "execution_count": null,
   "id": "d305f4ee",
   "metadata": {},
   "outputs": [],
   "source": [
    "im1=im.resize((im.width*5, im.height*5), Image.NEAREST)\n",
    "pylab.figure(figsize=(10,10)), pylab.imshow(im1), pylab.show()"
   ]
  },
  {
   "cell_type": "code",
   "execution_count": null,
   "id": "8186054f",
   "metadata": {},
   "outputs": [],
   "source": [
    "im1 = im.resize((im.width*5, im.height*5), Image.BILINEAR)\n",
    "pylab.figure(figsize=(10,10)), pylab.imshow(im1), pylab.show()\n"
   ]
  },
  {
   "cell_type": "code",
   "execution_count": null,
   "id": "e16dd583",
   "metadata": {},
   "outputs": [],
   "source": [
    "(<Figure size 1000x1000 with 1 Axes>,\n",
    " <matplotlib.image.AxesImage at 0x491a340>,\n",
    " None)"
   ]
  },
  {
   "cell_type": "code",
   "execution_count": null,
   "id": "4556040d",
   "metadata": {},
   "outputs": [],
   "source": [
    "im1=im.resize((im.width*5,im.height*5), Image.BICUBIC)\n",
    "pylab.figure(figsize=(9,9)), pylab.imshow(im1), \n",
    "pylab.show()\n"
   ]
  },
  {
   "cell_type": "code",
   "execution_count": null,
   "id": "17d3555b",
   "metadata": {},
   "outputs": [],
   "source": [
    "im=im.resize((im.width//5,im.height//5), Image.ANTIALIAS) \n",
    "pylab.figure(figsize=(10,5)),pylab.imshow(im),pylab.show()"
   ]
  },
  {
   "cell_type": "code",
   "execution_count": null,
   "id": "d7921aa6",
   "metadata": {},
   "outputs": [],
   "source": [
    "\n",
    "def signaltonoise(a,axis=0,ddof=0):\n",
    "    a=np.asanyarray(a)\n",
    "    n=a.mean(axis) \n",
    "    sd=a.std(axis=axis,ddof=ddof) \n",
    "    return np.where (sd==0, 0, n/sd)\n",
    "pylab.figure(figsize=(10,10))\n",
    "num_colors_list=[1<<n for n in range (8,0,-1)] \n",
    "snr_list=[]\n",
    "i=1\n",
    "for num_colors in num_colors_list: \n",
    "    im1=im.convert('P',palette=Image.ADAPTIVE, colors=num_colors)\n",
    "    pylab.subplot(4,2,i),pylab.imshow(im1), pylab.axis('off')\n",
    "    snr_list.append(signaltonoise(im1,axis=None))\n",
    "    pylab.title('Image with $ colors = '+str(num_colors)+ 'SNR=' + str(np.round(snr_list[i- 1],3)),size=10)\n",
    "    i+=1\n",
    "pylab.subplots_adjust(wspace=0.2, hspace=0.2)\n",
    "pylab.show()\n"
   ]
  },
  {
   "cell_type": "code",
   "execution_count": null,
   "id": "b673c2f7",
   "metadata": {},
   "outputs": [],
   "source": [
    "\n",
    "pylab.plot(num_colors_list,snr_list,'r.-')\n",
    "pylab.xlabel('#colorsintheimage') \n",
    "pylab.ylabel('SNR')\n",
    "pylab.title('ChangeinSNRw.r.t.#colors')\n",
    "pylab.xscale('log',basex=2)\n",
    "pylab.gca().invert_xaxis() \n",
    "pylab.show()\n"
   ]
  },
  {
   "cell_type": "code",
   "execution_count": null,
   "id": "25153ee2",
   "metadata": {},
   "outputs": [],
   "source": [
    "\n",
    "# b) Fast Fourier Transform to compute DFT # FFT Operations\n",
    "im=np.array(Image.open(\"garden2.jpg\").convert('L')) \n",
    "snr=signaltonoise(im, axis=None)\n",
    "print(\"SNR for the original Image =\" +str(snr))\n",
    "freq=fp.fft2(im)\n",
    "im1=fp.ifft2(freq).real"
   ]
  },
  {
   "cell_type": "code",
   "execution_count": null,
   "id": "68db7818",
   "metadata": {},
   "outputs": [],
   "source": [
    "snr=signaltonoise(im1,axis=None)\n",
    "print('SNR for the original Image =' +str(snr))\n",
    "assert(np.allclose(im,im1))\n",
    "pylab.figure(figsize=(10,10))\n",
    "pylab.subplot(121),\n",
    "pylab.imshow(im, cmap='gray'),\n",
    "pylab.axis('on') \n",
    "pylab.title('original image' ,size=10)\n",
    "pylab.subplot(122),\n",
    "pylab.imshow(im, cmap='gray'),\n",
    "pylab.axis('on')\n",
    "pylab.title('reconstructed image' ,size=10)\n",
    "#SNR for the original Image =2.4397639089933434\n",
    "#SNR for the original Image =2.439763908993343\n"
   ]
  },
  {
   "cell_type": "code",
   "execution_count": null,
   "id": "58928f0e",
   "metadata": {},
   "outputs": [],
   "source": [
    "#Text(0.5, 1.0, 'reconstructed image')\n",
    "freq2=fp.fftshift(freq)\n",
    "pylab.figure(figsize=(5,5)),\n",
    "pylab.imshow(20*np.log10(0.1+freq2).astype(int)),\n",
    "pylab.show()\n"
   ]
  },
  {
   "cell_type": "code",
   "execution_count": null,
   "id": "01af2ab3",
   "metadata": {},
   "outputs": [],
   "source": [
    "freq2=fp.fftshift(freq)\n",
    "pylab.figure(figsize=(5,5)),\n",
    "pylab.imshow(20*np.log10(0.1+freq2).astype(int)),\n",
    "pylab.show()\n"
   ]
  },
  {
   "cell_type": "code",
   "execution_count": null,
   "id": "b420fd8c",
   "metadata": {},
   "outputs": [],
   "source": [
    "import numpy.fft as fp \n",
    "im1=rgb2gray(imread(\"garden2.jpg\")) \n",
    "pylab.figure(figsize=(12,10))\n",
    "freq1=fp.fft2(im1) \n",
    "im1=fp.ifft2(im1).real\n",
    "pylab.subplot(3,2,1), \n",
    "pylab.imshow(im1, cmap='gray')\n",
    "pylab.title('Original Image', size=10)\n",
    "pylab.subplot(3,2,2),\n",
    "pylab.imshow(20*np.log10(0.01 + np.abs(fp.fftshift(freq1)))) \n",
    "pylab.title('FFT spectrum Magnitude', size=10)\n",
    "pylab.subplot(3,2,3), \n",
    "pylab.imshow(np.angle(fp.fftshift(freq1)), cmap='gray') \n",
    "pylab.title('FFT Phase' , size=10)\n",
    "pylab.subplot(3,2,4), \n",
    "pylab.imshow(np.clip(im,0,255), cmap='gray') \n",
    "pylab.title('reconstructed Image', size=10),\n",
    "pylab.show()"
   ]
  },
  {
   "cell_type": "code",
   "execution_count": null,
   "id": "f18b7519",
   "metadata": {},
   "outputs": [],
   "source": []
  }
 ],
 "metadata": {
  "kernelspec": {
   "display_name": "Python 3 (ipykernel)",
   "language": "python",
   "name": "python3"
  },
  "language_info": {
   "codemirror_mode": {
    "name": "ipython",
    "version": 3
   },
   "file_extension": ".py",
   "mimetype": "text/x-python",
   "name": "python",
   "nbconvert_exporter": "python",
   "pygments_lexer": "ipython3",
   "version": "3.10.6"
  }
 },
 "nbformat": 4,
 "nbformat_minor": 5
}
