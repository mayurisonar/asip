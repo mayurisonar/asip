{
 "cells": [
  {
   "cell_type": "code",
   "execution_count": null,
   "id": "0c82ba86",
   "metadata": {},
   "outputs": [],
   "source": [
    "from skimage.io import imread,imshow,show\n",
    "from skimage.color import rgb2gray\n",
    "import numpy as np \n",
    "from scipy import ndimage,misc,signal\n",
    "import matplotlib.pylab as pylab\n",
    "###Convolution on grey and Color Images\n",
    "im = rgb2gray(imread(\"Untitled Folder/schinchan.png\")).astype(float)\n",
    "print(np.max(im))\n",
    "print(im.shape)\n",
    "blur_box_kernel=np.ones((3,3))/9\n",
    "edge_laplace_kernel=np.array([[0,1,0],[1,-4,1],[0,1,0]])\n",
    "im_blurred = signal.convolve2d(im,blur_box_kernel)\n",
    "im_edges=np.clip(signal.convolve2d(im,edge_laplace_kernel),0,1)\n",
    "fig,axes=pylab.subplots(ncols=3,sharex=True,sharey=True,figsize=(18,6))\n",
    "axes[0].imshow(im,cmap=pylab.cm.gray)\n",
    "axes[0].set_title('OriginalImage',size=20)\n",
    "axes[1].imshow(im_blurred,cmap=pylab.cm.gray)\n",
    "axes[1].set_title('BoxBlur',size=20)\n",
    "axes[2].imshow(im_edges,cmap=pylab.cm.gray)\n",
    "axes[2].set_title('LaplaceEdgeDetection',size=20)\n",
    "for ax in axes: \n",
    " ax.axis('off')\n",
    "pylab.show()"
   ]
  },
  {
   "cell_type": "code",
   "execution_count": null,
   "id": "2fbe516d",
   "metadata": {},
   "outputs": [],
   "source": [
    "#Applying convolution to a color (RGB) image\n",
    "im = imread(\"Untitled Folder/schinchan.png\").astype(np.float)\n",
    "print(np.max(im))\n",
    "sharpen_kernel=np.array([0,-1,0,-1,5,-1,0,-1,0]).reshape((3,3,1))\n",
    "emboss_kernel=np.array(np.array([[-2,-1,0],[-1,1,1],[0,1,2]])).reshape((3,3,1))\n",
    "im_sharp=ndimage.convolve(im,sharpen_kernel,mode='nearest')\n",
    "im_sharp=np.clip(im_sharp,0,255).astype(np.uint8)\n",
    "255.0\n",
    "#clip(0to255)andconverttounsignedint\n",
    "im_emboss=ndimage.convolve(im,emboss_kernel,mode='nearest')\n",
    "im_emboss=np.clip(im_emboss,0,255).astype(np.uint8)\n",
    "pylab.figure(figsize=(10,15))\n",
    "pylab.subplot(131),\n",
    "pylab.imshow(im.astype(np.uint8)),"
   ]
  },
  {
   "cell_type": "code",
   "execution_count": null,
   "id": "8b5e5f6e",
   "metadata": {},
   "outputs": [],
   "source": [
    "pylab.axis('off')\n",
    "pylab.title('OriginalImage',size=25)\n",
    "pylab.subplot(132),\n",
    "pylab.imshow(im_sharp),\n",
    "pylab.axis('off')\n",
    "pylab.title('SharpenedImage',size=25)\n",
    "pylab.subplot(133),\n",
    "pylab.imshow(im_emboss),\n",
    "pylab.axis('off')\n",
    "pylab.title('EmbossedImage',size=25)\n",
    "pylab.tight_layout()\n",
    "pylab.show()\n",
    "im_gray=ndimage.convolve(im,emboss_kernel,mode='nearest')\n",
    "im_gray=np.clip(im_gray,0,255).astype(np.uint8)\n",
    "pylab.figure(figsize=(10,15))\n",
    "pylab.subplot(133),\n",
    "pylab.imshow(im_gray),\n",
    "pylab.axis('off')\n",
    "pylab.title('grayImage',size=25)\n",
    "pylab.tight_layout()\n",
    "pylab.show()\n"
   ]
  },
  {
   "cell_type": "code",
   "execution_count": null,
   "id": "6ba0082b",
   "metadata": {},
   "outputs": [],
   "source": [
    "##Template Matching\n",
    " #Template matching with cross-correlation between the image and template\n",
    "face_image=misc.face(gray=True)-misc.face(gray=True).mean()\n",
    "template_image=np.copy(face_image[300:365,670:750])\n",
    "#righteye\n",
    "template_image-=template_image.mean()\n",
    "face_image=face_image+np.random.randn(*face_image.shape)*50\n",
    "#add random noise\n",
    "correlation=signal.correlate2d(face_image,template_image,boundary='symm',mode='same')\n",
    "y,x=np.unravel_index(np.argmax(correlation),correlation.shape)\n",
    "#find the match\n",
    "fig,(ax_original,ax_template,ax_correlation)=pylab.subplots(3,1,figsize=(6,15))\n",
    "ax_original.imshow(face_image,cmap='gray')\n",
    "ax_original.set_title('Original',size=20)\n",
    "ax_original.set_axis_off()\n",
    "ax_template.imshow(template_image,cmap='gray')\n",
    "ax_template.set_title('Template',size=20)\n",
    "ax_template.set_axis_off()\n",
    "ax_correlation.imshow(correlation,cmap='afmhot')\n",
    "ax_correlation.set_title('Cross-correlation',size=20)\n",
    "ax_correlation.set_axis_off()\n",
    "ax_original.plot(x,y,'ro')\n",
    "fig.show()"
   ]
  },
  {
   "cell_type": "code",
   "execution_count": null,
   "id": "98a4ab70",
   "metadata": {},
   "outputs": [],
   "source": []
  },
  {
   "cell_type": "code",
   "execution_count": null,
   "id": "92b4113d",
   "metadata": {},
   "outputs": [],
   "source": []
  },
  {
   "cell_type": "code",
   "execution_count": null,
   "id": "fa1ec3d5",
   "metadata": {},
   "outputs": [],
   "source": []
  },
  {
   "cell_type": "code",
   "execution_count": null,
   "id": "56ea9916",
   "metadata": {},
   "outputs": [],
   "source": []
  },
  {
   "cell_type": "code",
   "execution_count": null,
   "id": "aad00a5e",
   "metadata": {},
   "outputs": [],
   "source": []
  },
  {
   "cell_type": "code",
   "execution_count": null,
   "id": "dde07a90",
   "metadata": {},
   "outputs": [],
   "source": []
  },
  {
   "cell_type": "code",
   "execution_count": null,
   "id": "b3db746c",
   "metadata": {},
   "outputs": [],
   "source": []
  },
  {
   "cell_type": "code",
   "execution_count": null,
   "id": "c0994b5f",
   "metadata": {},
   "outputs": [],
   "source": []
  },
  {
   "cell_type": "code",
   "execution_count": null,
   "id": "83bd2b06",
   "metadata": {},
   "outputs": [],
   "source": []
  },
  {
   "cell_type": "code",
   "execution_count": null,
   "id": "8ac00683",
   "metadata": {},
   "outputs": [],
   "source": []
  }
 ],
 "metadata": {
  "kernelspec": {
   "display_name": "Python 3 (ipykernel)",
   "language": "python",
   "name": "python3"
  },
  "language_info": {
   "codemirror_mode": {
    "name": "ipython",
    "version": 3
   },
   "file_extension": ".py",
   "mimetype": "text/x-python",
   "name": "python",
   "nbconvert_exporter": "python",
   "pygments_lexer": "ipython3",
   "version": "3.10.6"
  }
 },
 "nbformat": 4,
 "nbformat_minor": 5
}
