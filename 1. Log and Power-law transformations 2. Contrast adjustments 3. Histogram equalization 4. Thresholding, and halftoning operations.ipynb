{
 "cells": [
  {
   "cell_type": "code",
   "execution_count": null,
   "id": "d5a4ff8e",
   "metadata": {},
   "outputs": [],
   "source": [
    "import numpy as np\n",
    "from skimage import data,img_as_float,img_as_ubyte,exposure,io,color\n",
    "from skimage.io import imread\n",
    "from skimage.exposure import cumulative_distribution\n",
    "from skimage.restoration import denoise_bilateral,denoise_nl_means,estimate_sigma\n",
    "#from skimage.measure importcompare_psnr\n",
    "from skimage.util import random_noise\n",
    "from skimage.color import rgb2gray\n",
    "from PIL import Image,ImageEnhance,ImageFilter"
   ]
  },
  {
   "cell_type": "code",
   "execution_count": null,
   "id": "6a622308",
   "metadata": {},
   "outputs": [],
   "source": [
    "from scipy import ndimage,misc\n",
    "import matplotlib.pylab as pylab\n",
    "\n",
    "#loadimageandplothistogram #functiontodisplayimage\n",
    "def plot_image (image,title = \"Itachi Uchiha\" ):\n",
    "    pylab.title(title,size=20),pylab.imshow(image)\n",
    "    pylab.axis('off')\n",
    "\n",
    "#functiontodisplayhistogram\n",
    "def plot_hist (r,g,b,title =''):\n",
    "    r,g,b = img_as_ubyte(r), img_as_ubyte(g), img_as_ubyte(b)\n",
    "    pylab.hist(np.array(r).ravel(),bins=256, range=(0,256),color='r',alpha=0.5)\n",
    "    pylab.hist(np.array(g).ravel(),bins=256,range=(0,256),color='g',alpha=0.5)\n",
    "    pylab.hist(np.array(b).ravel(),bins=256,range=(0,256),color='b',alpha=0.5)\n",
    "    pylab.xlabel('PixelValues',size=10),pylab.ylabel('Frequency',size=10)\n",
    "    pylab.title(title,size=10)\n",
    "im=Image.open(\"/home/ubuntu/Downloads/itachi.jpeg\")\n",
    "im_r,im_g,im_b=im.split()\n",
    "pylab.style.use('ggplot')\n",
    "pylab.figure(figsize=(15,5))\n",
    "pylab.subplot(121),plot_image(im,'OriginalImage')\n",
    "pylab.subplot(122),plot_hist(im_r,im_g,im_b,'HistpgramofRGBImage')\n",
    "pylab.show()\n",
    "\n",
    "\n"
   ]
  },
  {
   "cell_type": "code",
   "execution_count": null,
   "id": "60a5fd4f",
   "metadata": {},
   "outputs": [],
   "source": [
    "#Log and Power-law transformations\n",
    "#log transformation\n",
    "im=im.point(lambda i:255*np.log(1+i/255))\n",
    "im_r,im_g,im_b=im.split()\n",
    "pylab.style.use('ggplot')"
   ]
  },
  {
   "cell_type": "code",
   "execution_count": null,
   "id": "2f8a2c8c",
   "metadata": {},
   "outputs": [],
   "source": [
    "pylab.figure(figsize=(15,5))\n",
    "pylab.subplot(121),plot_image(im,'ImageafterLogTransformation')\n",
    "pylab.subplot(122),plot_hist(im_r,im_g,im_b,'HistogramofLogtransformforRGBchannel')\n",
    "pylab.show()"
   ]
  },
  {
   "cell_type": "code",
   "execution_count": null,
   "id": "485faddf",
   "metadata": {},
   "outputs": [],
   "source": [
    "#power law transform\n",
    "im=img_as_float(imread(\"/home/ubuntu/Downloads/itachi.jpeg\"))\n",
    "#im_r, im_g, im_b = im.split()\n",
    "gamma=3.5\n",
    "im1=im**gamma\n",
    "pylab.style.use('ggplot')\n",
    "pylab.figure(figsize=(10,5))\n",
    "pylab.subplot(121),plot_hist(im[...,0],im[...,1],im[...,2],'HistogramforRGBchannel(Input)')\n",
    "pylab.subplot(122),plot_hist(im1[...,0],im1[...,1],im1[...,2],'Histogramfor,RGBOutput')\n",
    "pylab.show()"
   ]
  },
  {
   "cell_type": "code",
   "execution_count": null,
   "id": "50867d9d",
   "metadata": {},
   "outputs": [],
   "source": [
    "pylab.figure(figsize=(10,5))\n",
    "pylab.subplot(121),plot_image(im,'Imageoriginal')\n",
    "pylab.subplot(122),plot_image(im1,'Output')\n",
    "pylab.show()"
   ]
  },
  {
   "cell_type": "code",
   "execution_count": null,
   "id": "72bcda57",
   "metadata": {},
   "outputs": [],
   "source": [
    "#Contrast adjustments\n",
    "#constrast streching\n",
    "im=Image.open(\"/home/ubuntu/Downloads/itachi.jpeg\")\n",
    "im_r,im_g,im_b=im.split()\n",
    "pylab.style.use('ggplot')\n",
    "pylab.figure(figsize=(15,5))\n",
    "pylab.subplot(121)\n",
    "plot_image(im)\n",
    "pylab.subplot(122)\n",
    "plot_hist(im_r,im_g,im_b)\n",
    "pylab.show()"
   ]
  },
  {
   "cell_type": "code",
   "execution_count": null,
   "id": "030c648c",
   "metadata": {},
   "outputs": [],
   "source": [
    "#Log and Power-law transformations\n",
    "#log transformation\n",
    "im=im.point(lambda i:255*np.log(1+i/255))\n",
    "im_r,im_g,im_b=im.split()\n",
    "pylab.style.use('ggplot')\n",
    "pylab.figure(figsize=(15,5))\n",
    "pylab.subplot(121),plot_image(im,'ImageafterLogTransformation')\n",
    "pylab.subplot(122),plot_hist(im_r,im_g,im_b,'HistogramofLogtransformforRGBchannel')\n",
    "pylab.show()\n"
   ]
  },
  {
   "cell_type": "code",
   "execution_count": null,
   "id": "e6af263b",
   "metadata": {},
   "outputs": [],
   "source": [
    "#power law transform\n",
    "im=img_as_float(imread(\"/home/ubuntu/Downloads/itachi.jpeg\"))\n",
    "#im_r, im_g, im_b = im.split()\n",
    "gamma=3.5\n",
    "im1=im**gamma\n",
    "pylab.style.use('ggplot')\n",
    "pylab.figure(figsize=(10,5))\n",
    "pylab.subplot(121),plot_hist(im[...,0],im[...,1],im[...,2],'HistogramforRGBchannel(Input)')\n",
    "pylab.subplot(122),plot_hist(im1[...,0],im1[...,1],im1[...,2],'Histogramfor,RGBOutput')\n",
    "pylab.show()\n"
   ]
  },
  {
   "cell_type": "code",
   "execution_count": null,
   "id": "895bf4d7",
   "metadata": {},
   "outputs": [],
   "source": [
    "pylab.figure(figsize=(10,5))\n",
    "pylab.subplot(121),plot_image(im,'Imageoriginal')\n",
    "pylab.subplot(122),plot_image(im1,'Output')\n",
    "pylab.show()\n"
   ]
  },
  {
   "cell_type": "code",
   "execution_count": null,
   "id": "b5c9de82",
   "metadata": {},
   "outputs": [],
   "source": [
    "#Contrast adjustments\n",
    "#constrast streching\n",
    "im=Image.open(\"/home/ubuntu/Downloads/itachi.jpeg\")\n",
    "im_r,im_g,im_b=im.split()\n",
    "pylab.style.use('ggplot')\n"
   ]
  },
  {
   "cell_type": "code",
   "execution_count": null,
   "id": "529de983",
   "metadata": {},
   "outputs": [],
   "source": [
    "pylab.figure(figsize=(15,5))\n",
    "pylab.subplot(121)\n",
    "plot_image(im)\n",
    "pylab.subplot(122)\n",
    "plot_hist(im_r,im_g,im_b)\n",
    "pylab.show()"
   ]
  },
  {
   "cell_type": "code",
   "execution_count": null,
   "id": "e8534743",
   "metadata": {},
   "outputs": [],
   "source": [
    "#contrast\n",
    "def contrast (c):\n",
    "    return 0 if c<50 else (255 if c>150 else(255*c-22950)/48)\n",
    "im1=im.point(contrast)\n",
    "im_r,im_g,im_b=im1.split()\n",
    "pylab.style.use('ggplot')\n",
    "pylab.figure(figsize=(15,5))\n",
    "pylab.subplot(121)\n",
    "plot_image(im1)\n",
    "pylab.subplot(122)\n",
    "plot_hist(im_r,im_g,im_b)\n",
    "pylab.yscale('log',base=10)\n",
    "pylab.show()\n",
    "\n"
   ]
  },
  {
   "cell_type": "code",
   "execution_count": null,
   "id": "ab92dcc7",
   "metadata": {},
   "outputs": [],
   "source": [
    "#Thresholding, and halftoning operations\n",
    "#thresholding operations\n",
    "im=Image.open(\"/home/ubuntu/Downloads/itachi.jpeg\").convert('L')\n",
    "pylab.hist(np.array(im).ravel(),bins=256,range=(0,256),color='g')\n",
    "pylab.xlabel('Pixelvalues'),pylab.ylabel('Frequency')\n",
    "pylab.title('HistogramofPixelvalues')\n",
    "pylab.show()\n",
    "pylab.figure(figsize=(12,18))\n",
    "pylab.gray()\n",
    "pylab.subplot(221),plot_image(im,'OriginalImage')\n",
    "pylab.axis('off')\n",
    "th=[0,50,100,150,200]\n",
    "for i in range (2,5):\n",
    "    im1=im.point(lambda x:x>th[i])\n",
    "    pylab.subplot(2,2,i),plot_image(im1,'binaryImagewiththreshold='+str(th[i]))\n",
    "pylab.show()"
   ]
  },
  {
   "cell_type": "code",
   "execution_count": null,
   "id": "12000eee",
   "metadata": {},
   "outputs": [],
   "source": []
  }
 ],
 "metadata": {
  "kernelspec": {
   "display_name": "Python 3 (ipykernel)",
   "language": "python",
   "name": "python3"
  },
  "language_info": {
   "codemirror_mode": {
    "name": "ipython",
    "version": 3
   },
   "file_extension": ".py",
   "mimetype": "text/x-python",
   "name": "python",
   "nbconvert_exporter": "python",
   "pygments_lexer": "ipython3",
   "version": "3.10.6"
  }
 },
 "nbformat": 4,
 "nbformat_minor": 5
}
