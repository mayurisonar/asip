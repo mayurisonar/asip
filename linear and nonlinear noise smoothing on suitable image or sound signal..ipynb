{
 "cells": [
  {
   "cell_type": "code",
   "execution_count": null,
   "id": "1a829944",
   "metadata": {},
   "outputs": [],
   "source": [
    "import numpy as np\n",
    "from skimage.io import imread\n",
    "from skimage.restoration import denoise_bilateral, denoise_nl_means,estimate_sigma\n",
    "#from skimage.measure import compare_psnr\n",
    "from skimage.util import random_noise\n",
    "from skimage.color import rgb2gray\n",
    "from PIL import Image, ImageEnhance, ImageFilter\n",
    "from scipy import ndimage, misc\n",
    "import matplotlib.pylab as pylab\n"
   ]
  },
  {
   "cell_type": "code",
   "execution_count": null,
   "id": "dd971a7b",
   "metadata": {},
   "outputs": [],
   "source": [
    "def plot_image(image, title=''):\n",
    "    pylab.title(title, size=20), pylab.imshow(image)\n",
    "    pylab.axis('off') # comment this line if you want axis ticks\n",
    "def plot_hist(r, g, b, title=''):\n",
    "    r, g, b = img_as_ubyte(r), img_as_ubyte(g), img_as_ubyte(b)\n",
    "    pylab.hist(np.array(r).ravel(), bins=256, range=(0, 256), color='r',alpha=0.5)\n",
    "    pylab.hist(np.array(g).ravel(), bins=256, range=(0, 256), color='g',alpha=0.5)\n",
    "    pylab.hist(np.array(b).ravel(), bins=256, range=(0, 256), color='b',alpha=0.5)\n",
    "    pylab.xlabel('pixel value', size=20), pylab.ylabel('frequency', size=20)\n",
    "pylab.title(title, size=20)\n"
   ]
  },
  {
   "cell_type": "code",
   "execution_count": null,
   "id": "98a98ea8",
   "metadata": {},
   "outputs": [],
   "source": [
    "# Smoothing with ImageFilter.BLUR\n",
    "i = 1\n",
    "pylab.figure(figsize=(10,25))\n",
    "for prop_noise in np.linspace(0.05,0.3,3): # creating numeric sequences evenly spaced"
   ]
  },
  {
   "cell_type": "code",
   "execution_count": null,
   "id": "e0f03c7d",
   "metadata": {},
   "outputs": [],
   "source": [
    "numbers structured as a NumPy array\n",
    "    im = Image.open(\"C:/Users/kalpesh/Desktop/msc-1/dsip/Asip/lizard.jpg\")\n",
    "# choose 5000 random locations inside image\n",
    "    n = int(im.width * im.height * prop_noise)\n",
    "    x, y = np.random.randint(0, im.width, n), np.random.randint(0, im.height, n)\n",
    "    for (x,y) in zip(x,y):\n",
    "        im.putpixel((x, y), ((0,0,0) if np.random.rand() < 0.5 else(255,255,255))) # generate salt-and-pepper noise\n",
    "    im.save(\"C:/Users/kalpesh/Desktop/msc-1/dsip/Asip\" + str(prop_noise) + '.jpg')\n",
    "    pylab.subplot(6,2,i), plot_image(im, 'Original Image with ' + str(int(100*prop_noise)) + '% added noise')\n",
    "    i += 1\n",
    "    im1 = im.filter(ImageFilter.BLUR)\n",
    "    pylab.subplot(6,2,i), plot_image(im1, 'Blurred Image')\n",
    "    i += 1\n",
    "pylab.show()"
   ]
  },
  {
   "cell_type": "code",
   "execution_count": null,
   "id": "913559e9",
   "metadata": {},
   "outputs": [],
   "source": [
    "# Smoothing by averaging with the box blur kernel\n",
    "im = Image.open('C:/Users/kalpesh/Desktop/msc-1/dsip/Asip/lizard.jpg')"
   ]
  },
  {
   "cell_type": "code",
   "execution_count": null,
   "id": "9ab59012",
   "metadata": {},
   "outputs": [],
   "source": [
    "pylab.figure(figsize=(20,7))\n",
    "pylab.subplot(1,3,1), pylab.imshow(im), pylab.title('Original Image', size=30),pylab.axis('off')\n",
    "for n in [3,5]:\n",
    "    box_blur_kernel = np.reshape(np.ones(n*n),(n,n)) / (n*n)\n",
    "    im1 = im.filter(ImageFilter.Kernel((n,n), box_blur_kernel.flatten()))\n",
    "    pylab.subplot(1,3,(2 if n==3 else 3))\n",
    "    plot_image(im1, 'Blurred with kernel size = ' + str(n) + 'x' + str(n))\n",
    "pylab.suptitle('PIL Mean Filter (Box Blur) with different Kernel size',size=30)\n",
    "pylab.show()\n",
    "\n"
   ]
  },
  {
   "cell_type": "code",
   "execution_count": null,
   "id": "4cb8dc06",
   "metadata": {},
   "outputs": [],
   "source": [
    "# Smoothing with the Gaussian blur filter\n",
    "im = Image.open('C:/Users/kalpesh/Desktop/msc-1/dsip/Asip/lizard.jpg')\n",
    "pylab.figure(figsize=(20,6))\n",
    "i = 1\n",
    "for radius in range(1, 4):\n",
    "    im1 = im.filter(ImageFilter.GaussianBlur(radius))\n",
    "    pylab.subplot(1,3,i), plot_image(im1, 'radius = ' +str(round(radius,2)))\n",
    "    i += 1\n",
    "pylab.suptitle('PIL Gaussian Blur with different Radius', size=20)\n",
    "pylab.show()\n"
   ]
  },
  {
   "cell_type": "code",
   "execution_count": null,
   "id": "1f9095ed",
   "metadata": {},
   "outputs": [],
   "source": [
    "#Comparing smoothing with box and Gaussian kernels using SciPy ndimage\n",
    "from scipy import misc, ndimage\n",
    "import matplotlib.pylab as pylab\n",
    "im = imread('C:/Users/kalpesh/Desktop/msc-1/dsip/Asip/lizard.jpg')\n",
    "k = 7 # 7x7 kernel"
   ]
  },
  {
   "cell_type": "code",
   "execution_count": null,
   "id": "7e82ec1b",
   "metadata": {},
   "outputs": [],
   "source": [
    "im_box = ndimage.uniform_filter(im, size=(k,k,1))\n",
    "s = 2 # sigma value\n",
    "t = (((k - 1)/2)-0.5)/s # truncate parameter value for a kxk gaussian kernel with sigma s\n",
    "im_gaussian = ndimage.gaussian_filter(im, sigma=(s,s,0), truncate=t)\n",
    "fig = pylab.figure(figsize=(30,10))\n",
    "pylab.subplot(131), plot_image(im, 'original image')\n",
    "pylab.subplot(132), plot_image(im_box, 'with the box filter')\n",
    "pylab.subplot(133), plot_image(im_gaussian, 'with the gaussian filter')\n",
    "pylab.show()"
   ]
  },
  {
   "cell_type": "code",
   "execution_count": null,
   "id": "d1fd64f0",
   "metadata": {},
   "outputs": [],
   "source": [
    "\n",
    "# Using the median filter\n",
    "i = 1\n",
    "pylab.figure(figsize=(25,35))\n",
    "for prop_noise in np.linspace(0.05,0.3,3):\n",
    "    im = Image.open('C:/Users/kalpesh/Desktop/msc-1/dsip/Asip/lizard.jpg')\n",
    "# choose 5000 random locations inside image\n",
    "    n = int(im.width * im.height * prop_noise)\n",
    "    x, y = np.random.randint(0, im.width, n), np.random.randint(0, im.height, n)\n",
    "    for (x,y) in zip(x,y):\n",
    "        im.putpixel((x, y), ((0,0,0) if np.random.rand() < 0.5 else(255,255,255))) # geenrate salt-and-pepper noise\n",
    "        im.save('C:/Users/kalpesh/Desktop/msc-1/dsip/Asip' + str(prop_noise) + '.jpg')\n",
    "        pylab.subplot(6,4,i)\n",
    "        plot_image(im, 'Original Image with ' + str(int(100*prop_noise)) + '%addednoise' )\n",
    "        i += 1\n",
    "        for sz in [3,7,11]:\n",
    "            im1 = im.filter(ImageFilter.MedianFilter(size=sz))\n",
    "            pylab.subplot(6,4,i), plot_image(im1, 'Output (Median Filter size=' + str(sz) + ')')\n",
    "            i += 1\n",
    "pylab.show()"
   ]
  },
  {
   "cell_type": "code",
   "execution_count": null,
   "id": "c350fa61",
   "metadata": {},
   "outputs": [],
   "source": [
    "\n",
    "# Using max and min filter\n",
    "im = Image.open('C:/Users/kalpesh/Desktop/msc-1/dsip/Asip0.3.jpg')\n",
    "pylab.figure(figsize=(30,10))\n",
    "sz = 3\n",
    "pylab.subplot(1,3,1)\n",
    "plot_image(im, 'Original Image with 10% added noise')"
   ]
  },
  {
   "cell_type": "code",
   "execution_count": null,
   "id": "c0684d7c",
   "metadata": {},
   "outputs": [],
   "source": [
    "im1 = im.filter(ImageFilter.MaxFilter(size=sz))\n",
    "pylab.subplot(1,3,2), plot_image(im1, 'Output (Max Filter size=' + str(sz)+ ')')\n",
    "im1 = im1.filter(ImageFilter.MinFilter(size=sz))\n",
    "pylab.subplot(1,3,3), plot_image(im1, 'Output (Min Filter size=' + str(sz)+ ')')\n",
    "pylab.show()"
   ]
  },
  {
   "cell_type": "code",
   "execution_count": null,
   "id": "4ea2a52e",
   "metadata": {},
   "outputs": [],
   "source": []
  }
 ],
 "metadata": {
  "kernelspec": {
   "display_name": "Python 3 (ipykernel)",
   "language": "python",
   "name": "python3"
  },
  "language_info": {
   "codemirror_mode": {
    "name": "ipython",
    "version": 3
   },
   "file_extension": ".py",
   "mimetype": "text/x-python",
   "name": "python",
   "nbconvert_exporter": "python",
   "pygments_lexer": "ipython3",
   "version": "3.10.6"
  }
 },
 "nbformat": 4,
 "nbformat_minor": 5
}
